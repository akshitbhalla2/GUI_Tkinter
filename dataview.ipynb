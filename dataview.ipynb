{
 "cells": [
  {
   "cell_type": "code",
   "execution_count": 1,
   "metadata": {},
   "outputs": [
    {
     "name": "stderr",
     "output_type": "stream",
     "text": [
      "/home/akshitbhalla/anaconda3/lib/python3.7/site-packages/statsmodels/tools/_testing.py:19: FutureWarning: pandas.util.testing is deprecated. Use the functions in the public API at pandas.testing instead.\n",
      "  import pandas.util.testing as tm\n"
     ]
    }
   ],
   "source": [
    "from tkinter import *\n",
    "from tkinter.ttk import *\n",
    "from plotdata import regression_plot\n",
    "from stats import stats_columns"
   ]
  },
  {
   "cell_type": "code",
   "execution_count": 2,
   "metadata": {},
   "outputs": [],
   "source": [
    "class Application(Frame):\n",
    "    def __init__(self, master = None):\n",
    "        super().__init__(master)\n",
    "        self.master = master\n",
    "        self.create_widgets()\n",
    "        \n",
    "    def create_widgets(self):\n",
    "        self.winfo_toplevel().title(\"Data View\")\n",
    "        self.l1 = Label(self.master, text = \"File Name\")\n",
    "        self.l2 = Label(self.master, text = \"X Label\")\n",
    "        self.l3 = Label(self.master, text = \"Y Label\")\n",
    "        \n",
    "        self.l1.grid(row = 0)\n",
    "        self.l2.grid(row = 1)\n",
    "        self.l3.grid(row = 2)\n",
    "        \n",
    "        self.eFname = Entry(self.master, width = 40)\n",
    "        self.eX = Entry(self.master, width = 40)\n",
    "        self.eY = Entry(self.master, width = 40)\n",
    "        \n",
    "        self.eFname.grid(row = 0, column = 1, sticky = W)        \n",
    "        self.eX.grid(row = 1, column = 1, sticky = W)\n",
    "        self.eY.grid(row = 2, column = 1, sticky = W)\n",
    "        \n",
    "        self.txtX = Text(self.master, width = 30)\n",
    "        self.txtY = Text(self.master, width = 30)\n",
    "        \n",
    "        self.txtX.grid(row = 3, column = 0, sticky = W)\n",
    "        self.txtX.grid(row = 3, column = 1, sticky = W)\n",
    "        \n",
    "        self.style = Style()\n",
    "        self.style.map(\n",
    "            \"D.TButton\",\n",
    "            foreground = [(\"pressed\", \"red\"), (\"active\", \"green\")],\n",
    "            background = [(\"pressed\", \"!disabled\", \"black\"), (\"active\", \"white\")]\n",
    "        )\n",
    "        \n",
    "        self.btn = Button(\n",
    "            self.master, \n",
    "            text = \"Show Regression Graph\",\n",
    "            style = \"D.TButton\"\n",
    "        )\n",
    "        self.btn[\"command\"] = self.show_graph\n",
    "        self.btn.grid(row = 4, column = 0, sticky = W)\n",
    "        \n",
    "        self.stats = Button(\n",
    "            self.master, \n",
    "            text = \"Show Stats\",\n",
    "            style = \"D.TButton\"\n",
    "        )\n",
    "        self.stats[\"command\"] = self.show_stats\n",
    "        self.stats.grid(row = 4, column = 1, sticky = W)\n",
    "\n",
    "        self.quit = Button(\n",
    "            self.master, \n",
    "            text = \"Quit\", \n",
    "            style = \"D.TButton\",\n",
    "            command = self.master.destroy\n",
    "        )\n",
    "    \n",
    "        self.quit.grid(row = 4, column = 1, sticky = E)\n",
    "        \n",
    "    def show_graph(self):\n",
    "        regression_plot(\n",
    "            self.eFname.get(),\n",
    "            self.eX.get(),\n",
    "            self.eY.get()\n",
    "        )\n",
    "        \n",
    "    def show_stats(self):\n",
    "        xstats, ystats = stats_columns(\n",
    "            self.eFname.get(),\n",
    "            self.eX.get(),\n",
    "            self.eY.get()\n",
    "        )\n",
    "        \n",
    "        self.txtX.insert(INSERT, xstats),\n",
    "        self.txtY.insert(INSERT, ystats)"
   ]
  },
  {
   "cell_type": "code",
   "execution_count": 3,
   "metadata": {},
   "outputs": [],
   "source": [
    "root = Tk()\n",
    "app = Application(master = root)\n",
    "app.mainloop()"
   ]
  },
  {
   "cell_type": "code",
   "execution_count": null,
   "metadata": {},
   "outputs": [],
   "source": []
  }
 ],
 "metadata": {
  "kernelspec": {
   "display_name": "Python 3",
   "language": "python",
   "name": "python3"
  },
  "language_info": {
   "codemirror_mode": {
    "name": "ipython",
    "version": 3
   },
   "file_extension": ".py",
   "mimetype": "text/x-python",
   "name": "python",
   "nbconvert_exporter": "python",
   "pygments_lexer": "ipython3",
   "version": "3.7.4"
  }
 },
 "nbformat": 4,
 "nbformat_minor": 2
}
